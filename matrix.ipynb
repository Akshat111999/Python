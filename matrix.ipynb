{
  "nbformat": 4,
  "nbformat_minor": 0,
  "metadata": {
    "colab": {
      "name": "matrix.ipynb",
      "provenance": [],
      "include_colab_link": true
    },
    "kernelspec": {
      "name": "python3",
      "display_name": "Python 3"
    }
  },
  "cells": [
    {
      "cell_type": "markdown",
      "metadata": {
        "id": "view-in-github",
        "colab_type": "text"
      },
      "source": [
        "<a href=\"https://colab.research.google.com/github/Akshat111999/Python/blob/master/matrix.ipynb\" target=\"_parent\"><img src=\"https://colab.research.google.com/assets/colab-badge.svg\" alt=\"Open In Colab\"/></a>"
      ]
    },
    {
      "cell_type": "code",
      "metadata": {
        "id": "ZkmyLIJ2Gs6S",
        "colab_type": "code",
        "colab": {}
      },
      "source": [
        "#importing libraries\n",
        "import numpy as np\n",
        "import matplotlib.pyplot as plt"
      ],
      "execution_count": 0,
      "outputs": []
    },
    {
      "cell_type": "code",
      "metadata": {
        "id": "HeykVDkhG54C",
        "colab_type": "code",
        "colab": {
          "base_uri": "https://localhost:8080/",
          "height": 182
        },
        "outputId": "baf67ad4-ad12-4ff4-d9b6-fa9edb475e48"
      },
      "source": [
        "#making a matrix\n",
        "m=[[0.0,1.2,3.3,2.5,1.4,2.34,3.2,1.2,2.33],\n",
        "   [1.23,0.0,1.22,2.23,3.1,1.34,2.45,3.51,1.22],\n",
        "   [2.34,1.45,0.0,4.2,3.67,1.24,2.66,1.46,1.46],\n",
        "   [3.21,4.21,1.23,0.0,2.41,1.34,1.2,3.22,2.92],\n",
        "   [1.21,1.21,2.23,1.26,0.0,2.34,3.2,1.22,3.45],\n",
        "   [2.11,2.77,1.67,3.4,1.21,0.0,2.22,3.23,1.87],\n",
        "   [1.56,4.21,1.23,3.56,1.44,2.33,0.0,1.56,3.44],\n",
        "   [2.29,1.21,3.23,2.34,1.11,1.34,1.2,0.0,1.44],\n",
        "   [1.76,2.21,2.96,1.44,2.41,3.34,2.2,3.85,0.0],]\n",
        "\n",
        "matrix=np.matrix(m)\n",
        "print(matrix)"
      ],
      "execution_count": 4,
      "outputs": [
        {
          "output_type": "stream",
          "text": [
            "[[0.   1.2  3.3  2.5  1.4  2.34 3.2  1.2  2.33]\n",
            " [1.23 0.   1.22 2.23 3.1  1.34 2.45 3.51 1.22]\n",
            " [2.34 1.45 0.   4.2  3.67 1.24 2.66 1.46 1.46]\n",
            " [3.21 4.21 1.23 0.   2.41 1.34 1.2  3.22 2.92]\n",
            " [1.21 1.21 2.23 1.26 0.   2.34 3.2  1.22 3.45]\n",
            " [2.11 2.77 1.67 3.4  1.21 0.   2.22 3.23 1.87]\n",
            " [1.56 4.21 1.23 3.56 1.44 2.33 0.   1.56 3.44]\n",
            " [2.29 1.21 3.23 2.34 1.11 1.34 1.2  0.   1.44]\n",
            " [1.76 2.21 2.96 1.44 2.41 3.34 2.2  3.85 0.  ]]\n"
          ],
          "name": "stdout"
        }
      ]
    },
    {
      "cell_type": "code",
      "metadata": {
        "id": "xbZqQ8z2HFmM",
        "colab_type": "code",
        "colab": {
          "base_uri": "https://localhost:8080/",
          "height": 281
        },
        "outputId": "412a880f-1bb6-4e9a-9d82-bfe472f33c17"
      },
      "source": [
        "#visualization of matrix\n",
        "fig = plt.figure()\n",
        "ax=fig.add_subplot(1,1,1)\n",
        "ax.set_aspect('equal')\n",
        "plt.imshow(matrix,interpolation='nearest', cmap=plt.cm.autumn)\n",
        "plt.colorbar() # this shows the vertical color level bar\n",
        "plt.title('Matrix Visual Representation')\n",
        "plt.show()"
      ],
      "execution_count": 12,
      "outputs": [
        {
          "output_type": "display_data",
          "data": {
            "image/png": "[encoded data removed]",
            "text/plain": [
              "<Figure size 432x288 with 2 Axes>"
            ]
          },
          "metadata": {
            "tags": []
          }
        }
      ]
    },
    {
      "cell_type": "code",
      "metadata": {
        "id": "-C9Aw52ZHPcq",
        "colab_type": "code",
        "colab": {
          "base_uri": "https://localhost:8080/",
          "height": 182
        },
        "outputId": "14f1f554-1009-41e4-93a7-5cb07d0dd485"
      },
      "source": [
        "#randomly assigning integer values in matrix\n",
        "matrix_2= np.random.randint(7,size=(9,9)) # 7 is max value and it is not included\n",
        "print(matrix_2)"
      ],
      "execution_count": 6,
      "outputs": [
        {
          "output_type": "stream",
          "text": [
            "[[1 1 5 6 0 0 3 4 3]\n",
            " [1 4 4 3 0 6 5 6 0]\n",
            " [5 3 3 0 1 4 4 6 5]\n",
            " [1 5 5 1 2 4 6 3 0]\n",
            " [6 1 4 3 2 0 2 4 6]\n",
            " [5 2 2 0 3 0 2 4 3]\n",
            " [1 2 4 2 2 5 2 6 2]\n",
            " [2 0 3 6 4 6 5 1 5]\n",
            " [2 0 6 0 4 5 3 2 1]]\n"
          ],
          "name": "stdout"
        }
      ]
    },
    {
      "cell_type": "code",
      "metadata": {
        "id": "Oh71VwKiHbDF",
        "colab_type": "code",
        "colab": {
          "base_uri": "https://localhost:8080/",
          "height": 281
        },
        "outputId": "ce6a93b4-62f8-42ed-980e-bab8e93c8c6e"
      },
      "source": [
        "fig = plt.figure()\n",
        "ax=fig.add_subplot(1,1,1)\n",
        "ax.set_aspect('equal')\n",
        "plt.imshow(matrix_2,interpolation='nearest', cmap=plt.cm.autumn)\n",
        "plt.colorbar()\n",
        "plt.title('Matrix Visual Representation')\n",
        "plt.show()"
      ],
      "execution_count": 8,
      "outputs": [
        {
          "output_type": "display_data",
          "data": {
            "image/png": "[encoded data removed]",
            "text/plain": [
              "<Figure size 432x288 with 2 Axes>"
            ]
          },
          "metadata": {
            "tags": []
          }
        }
      ]
    },
    {
      "cell_type": "code",
      "metadata": {
        "id": "-O5cew8QHogF",
        "colab_type": "code",
        "colab": {
          "base_uri": "https://localhost:8080/",
          "height": 348
        },
        "outputId": "c941f85b-9e37-47a9-df89-3c09cee84577"
      },
      "source": [
        "matrix_3= np.random.rand(9,9)\n",
        "print(matrix_3)"
      ],
      "execution_count": 9,
      "outputs": [
        {
          "output_type": "stream",
          "text": [
            "[[0.67999132 0.64480924 0.7725592  0.61490019 0.31056509 0.8904866\n",
            "  0.98919664 0.9042071  0.8309274 ]\n",
            " [0.41564006 0.80661622 0.60577369 0.69395044 0.29467295 0.23402464\n",
            "  0.71628535 0.32235825 0.83473789]\n",
            " [0.26235151 0.19219888 0.77122007 0.35652582 0.4253841  0.7308231\n",
            "  0.26450147 0.03150239 0.50246422]\n",
            " [0.45570996 0.89614842 0.23828997 0.91815484 0.08970844 0.96420198\n",
            "  0.84121607 0.44346781 0.35878305]\n",
            " [0.28712734 0.39021569 0.03395365 0.26153966 0.30841953 0.89605991\n",
            "  0.67565181 0.78250386 0.71599171]\n",
            " [0.3699271  0.20719367 0.64115493 0.92827518 0.72317388 0.88069905\n",
            "  0.8752536  0.00657427 0.1601444 ]\n",
            " [0.80720555 0.24533529 0.55181882 0.48203591 0.02038314 0.32767599\n",
            "  0.17522766 0.80031258 0.51420985]\n",
            " [0.09950813 0.56653859 0.57146763 0.63631132 0.96108585 0.12779856\n",
            "  0.79536318 0.90047594 0.57682876]\n",
            " [0.09145268 0.02220077 0.73516366 0.26534314 0.16480542 0.7862416\n",
            "  0.94677742 0.88701671 0.75929393]]\n"
          ],
          "name": "stdout"
        }
      ]
    },
    {
      "cell_type": "code",
      "metadata": {
        "id": "TEZzoQFYHeSN",
        "colab_type": "code",
        "colab": {
          "base_uri": "https://localhost:8080/",
          "height": 281
        },
        "outputId": "d91d8f78-4603-4f42-d3fd-0fd18cd7ceca"
      },
      "source": [
        "fig = plt.figure()\n",
        "ax=fig.add_subplot(1,1,1)\n",
        "ax.set_aspect('equal')\n",
        "plt.imshow(matrix_3,interpolation='nearest', cmap=plt.cm.autumn)\n",
        "plt.colorbar()\n",
        "plt.title('Matrix Visual Representation')\n",
        "plt.show()"
      ],
      "execution_count": 10,
      "outputs": [
        {
          "output_type": "display_data",
          "data": {
            "image/png": "[encoded data removed]",
            "text/plain": [
              "<Figure size 432x288 with 2 Axes>"
            ]
          },
          "metadata": {
            "tags": []
          }
        }
      ]
    },
    {
      "cell_type": "code",
      "metadata": {
        "id": "Dvx-KTirHv4n",
        "colab_type": "code",
        "colab": {}
      },
      "source": [
        ""
      ],
      "execution_count": 0,
      "outputs": []
    }
  ]
}